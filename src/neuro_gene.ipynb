{
 "cells": [
  {
   "cell_type": "code",
   "execution_count": 15,
   "metadata": {
    "collapsed": true
   },
   "outputs": [],
   "source": [
    "%run C:\\Users\\etashkinov\\PycharmProjects\\neurogene\\src\\figure_node"
   ]
  },
  {
   "cell_type": "code",
   "execution_count": 24,
   "metadata": {},
   "outputs": [],
   "source": [
    "%run C:\\Users\\etashkinov\\PycharmProjects\\neurogene\\src\\data_loader\n",
    "%run C:\\Users\\etashkinov\\PycharmProjects\\neurogene\\src\\display"
   ]
  },
  {
   "cell_type": "code",
   "execution_count": 17,
   "metadata": {},
   "outputs": [
    {
     "name": "stdout",
     "output_type": "stream",
     "text": [
      "Create network:net_13201032164010320128100800025610080010010\nCreate layer conv_1 with shape: 32, activation: relu, regularizer: L2, filter: 3, max_pool: 2\nCreate layer conv_2 with shape: 64, activation: relu, regularizer: L2, filter: 3, max_pool: 2\n"
     ]
    },
    {
     "name": "stdout",
     "output_type": "stream",
     "text": [
      "Create layer fc_3 with shape: 128, activation: tanh, dropout: 0.8\n"
     ]
    },
    {
     "name": "stdout",
     "output_type": "stream",
     "text": [
      "Create layer fc_4 with shape: 256, activation: tanh, dropout: 0.8\nAdd regression adam at 0.01 with categorical_crossentropy\n"
     ]
    },
    {
     "name": "stdout",
     "output_type": "stream",
     "text": [
      "---------------------------------\nRun id: net_13201032164010320128100800025610080010010\nLog directory: board/\n"
     ]
    },
    {
     "name": "stdout",
     "output_type": "stream",
     "text": [
      "INFO:tensorflow:Summary name Accuracy/ (raw) is illegal; using Accuracy/__raw_ instead.\n"
     ]
    },
    {
     "name": "stderr",
     "output_type": "stream",
     "text": [
      "INFO:tensorflow:Summary name Accuracy/ (raw) is illegal; using Accuracy/__raw_ instead.\n"
     ]
    },
    {
     "name": "stdout",
     "output_type": "stream",
     "text": [
      "---------------------------------\nTraining samples: 0\nValidation samples: 0\n--\n"
     ]
    },
    {
     "name": "stderr",
     "output_type": "stream",
     "text": [
      "Exception in thread Thread-7:\nTraceback (most recent call last):\n  File \"c:\\users\\etashkinov\\appdata\\local\\programs\\python\\python35\\lib\\threading.py\", line 914, in _bootstrap_inner\n    self.run()\n  File \"c:\\users\\etashkinov\\appdata\\local\\programs\\python\\python35\\lib\\threading.py\", line 862, in run\n    self._target(*self._args, **self._kwargs)\n  File \"c:\\users\\etashkinov\\appdata\\local\\programs\\python\\python35\\lib\\site-packages\\tflearn\\data_flow.py\", line 201, in fill_batch_ids_queue\n    ids = self.next_batch_ids()\n  File \"c:\\users\\etashkinov\\appdata\\local\\programs\\python\\python35\\lib\\site-packages\\tflearn\\data_flow.py\", line 215, in next_batch_ids\n    batch_start, batch_end = self.batches[self.batch_index]\nIndexError: list index out of range\n\n"
     ]
    },
    {
     "name": "stdout",
     "output_type": "stream",
     "text": [
      "INFO:tensorflow:C:\\Users\\etashkinov\\net_13201032164010320128100800025610080010010 is not in all_model_checkpoint_paths. Manually adding it.\n"
     ]
    },
    {
     "name": "stderr",
     "output_type": "stream",
     "text": [
      "INFO:tensorflow:C:\\Users\\etashkinov\\net_13201032164010320128100800025610080010010 is not in all_model_checkpoint_paths. Manually adding it.\n"
     ]
    },
    {
     "name": "stdout",
     "output_type": "stream",
     "text": [
      "(<tflearn.models.dnn.DNN object at 0x000000000BBC3160>, 'net_13201032164010320128100800025610080010010')\n"
     ]
    }
   ],
   "source": [
    "train = get_data('../figures', 20)\n",
    "test = get_data('../objects', 1)\n",
    "\n",
    "prediction = fit(train, test, (\n",
    "    (1,32, 0,1,0,  3,2), \n",
    "    (1,64, 0,1,0,  3,2),\n",
    "    (0,128,1,0,0.8,0,0),\n",
    "    (0,256,1,0,0.8,0,0),\n",
    "    (1, 0.01, 0)\n",
    "))\n",
    "print(prediction)"
   ]
  },
  {
   "cell_type": "code",
   "execution_count": 26,
   "metadata": {
    "collapsed": true
   },
   "outputs": [
    {
     "ename": "NameError",
     "evalue": "name 'data_loader' is not defined",
     "traceback": [
      "\u001b[1;31m---------------------------------------------------------------------------\u001b[0m",
      "\u001b[1;31mNameError\u001b[0m                                 Traceback (most recent call last)",
      "\u001b[1;32m<ipython-input-26-f70c8ab79217>\u001b[0m in \u001b[0;36m<module>\u001b[1;34m()\u001b[0m\n\u001b[1;32m----> 1\u001b[1;33m \u001b[0mtrain\u001b[0m \u001b[1;33m=\u001b[0m \u001b[0mdata_loader\u001b[0m\u001b[1;33m.\u001b[0m\u001b[0mget_data\u001b[0m\u001b[1;33m(\u001b[0m\u001b[1;34m'./../figures'\u001b[0m\u001b[1;33m,\u001b[0m \u001b[1;36m20\u001b[0m\u001b[1;33m)\u001b[0m\u001b[1;33m\u001b[0m\u001b[0m\n\u001b[0m\u001b[0;32m      2\u001b[0m \u001b[0mtest\u001b[0m \u001b[1;33m=\u001b[0m \u001b[0mget_data\u001b[0m\u001b[1;33m(\u001b[0m\u001b[1;34m'./../objects'\u001b[0m\u001b[1;33m,\u001b[0m \u001b[1;36m1\u001b[0m\u001b[1;33m)\u001b[0m\u001b[1;33m\u001b[0m\u001b[0m\n",
      "\u001b[1;31mNameError\u001b[0m: name 'data_loader' is not defined"
     ],
     "output_type": "error"
    }
   ],
   "source": [
    "train = data_loader.get_data('./../figures', 20)\n",
    "test = get_data('./../objects', 1)"
   ]
  },
  {
   "cell_type": "code",
   "execution_count": 23,
   "metadata": {},
   "outputs": [
    {
     "data": {
      "text/plain": [
       "[]"
      ]
     },
     "execution_count": 23,
     "metadata": {},
     "output_type": "execute_result"
    }
   ],
   "source": [
    "test"
   ]
  },
  {
   "cell_type": "code",
   "execution_count": null,
   "metadata": {},
   "outputs": [],
   "source": [
    ""
   ]
  }
 ],
 "metadata": {
  "kernelspec": {
   "display_name": "Python 3",
   "language": "python",
   "name": "python3"
  },
  "language_info": {
   "codemirror_mode": {
    "name": "ipython",
    "version": 3.0
   },
   "file_extension": ".py",
   "mimetype": "text/x-python",
   "name": "python",
   "nbconvert_exporter": "python",
   "pygments_lexer": "ipython3",
   "version": "3.5.2"
  }
 },
 "nbformat": 4,
 "nbformat_minor": 0
}